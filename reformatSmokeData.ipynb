{
 "cells": [
  {
   "cell_type": "code",
   "execution_count": 4,
   "metadata": {},
   "outputs": [],
   "source": [
    "import pandas as pd\n",
    "import numpy as np\n",
    "import glob"
   ]
  },
  {
   "cell_type": "markdown",
   "metadata": {},
   "source": [
    "#### Making large dataset of population-weight ZIP code smoke estimates\n",
    "##### Also need to \"melt\" the dataframe so the Zips are separate rows instead of column headers"
   ]
  },
  {
   "cell_type": "code",
   "execution_count": 7,
   "metadata": {},
   "outputs": [],
   "source": [
    "# Start with Kate O'Dell's product\n",
    "# Read in all years of files for smoke and then total PM2.5\n",
    "inputfiles = glob.glob('C:/Users/olivia.sablan/OneDrive - State of New Mexico/Documents/Data/smoke/KateZip/nm_smoke*.csv')\n",
    "df_from_each_file = (pd.read_csv(f) for f in inputfiles)\n",
    "smoke = pd.concat(df_from_each_file,sort=False)\n",
    "meltsmoke= smoke.melt(id_vars=['Date'],var_name='Zip',value_name='smokepm25')\n",
    "\n",
    "inputfiles = glob.glob('C:/Users/olivia.sablan/OneDrive - State of New Mexico/Documents/Data/smoke/KateZip/nm_total*.csv')\n",
    "df_from_each_file = (pd.read_csv(f) for f in inputfiles)\n",
    "total = pd.concat(df_from_each_file,sort=False)\n",
    "melttotal= total.melt(id_vars=['Date'],var_name='Zip',value_name='totalpm25')\n",
    "\n",
    "mergedZip= pd.merge(meltsmoke, melttotal, on = ['Date', 'Zip'])\n",
    "mergedZip.to_csv('C:/Users/olivia.sablan/OneDrive - State of New Mexico/Documents/Data/smoke/KateZip/AllZipSmoke_Total_os.csv')\n"
   ]
  },
  {
   "cell_type": "code",
   "execution_count": 8,
   "metadata": {},
   "outputs": [],
   "source": [
    "# Next, do the same for Bonne Ford's smoke product\n",
    "# This product is only for 2022 so we don't need to \"glob\" to read it a bunch of files\n",
    "smoke = pd.read_csv(\"C:/Users/olivia.sablan/OneDrive - State of New Mexico/Documents/Data/smoke/BonneZip/nm_smoke_zipcode_2022_final.csv\")\n",
    "total = pd.read_csv(\"/Users/olivia.sablan/OneDrive - State of New Mexico/Documents/Data/smoke/BonneZip/nm_totalpm_zipcode_2022_final.csv\")\n",
    "melttotal = total.melt(id_vars = ['Date'], var_name = 'Zip', value_name= 'totalpm25')\n",
    "meltsmoke= smoke.melt(id_vars = ['Date'], var_name = 'Zip', value_name= 'smokepm25')\n",
    "alltogether = pd.merge(meltsmoke, melttotal, on = ['Date', 'Zip'])\n",
    "alltogether.to_csv('/Users/olivia.sablan/OneDrive - State of New Mexico/Documents/Data/smoke/BonneZip/bigPurpleAirZip_os.csv')"
   ]
  },
  {
   "cell_type": "code",
   "execution_count": 4,
   "metadata": {},
   "outputs": [],
   "source": [
    "# Repeat for Bonne Ford's other smoke product that uses Kate O'Dell's variogram parameters (vgp) for kriging\n",
    "smoke = pd.read_csv(\"C:/Users/olivia.sablan/OneDrive - State of New Mexico/Documents/Data/smoke/BonneZip/nm_smoke_zipcode_2022_final_KOvgp.csv\")\n",
    "total = pd.read_csv(\"/Users/olivia.sablan/OneDrive - State of New Mexico/Documents/Data/smoke/BonneZip/nm_totalpm_zipcode_2022_final_KOvgp.csv\")\n",
    "melttotal = total.melt(id_vars = ['Date'], var_name = 'Zip', value_name= 'totalpm25')\n",
    "meltsmoke= smoke.melt(id_vars = ['Date'], var_name = 'Zip', value_name= 'smokepm25')\n",
    "alltogether = pd.merge(meltsmoke, melttotal, on = ['Date', 'Zip'])\n",
    "alltogether.to_csv('/Users/olivia.sablan/OneDrive - State of New Mexico/Documents/Data/smoke/BonneZip/bigPurpleAirZip_os_KOvgp.csv')"
   ]
  },
  {
   "cell_type": "code",
   "execution_count": 12,
   "metadata": {},
   "outputs": [],
   "source": [
    "# Lastly, repeated for Kamal's smoke product\n",
    "smoke = pd.read_csv(\"C:/Users/olivia.sablan/OneDrive - State of New Mexico/Documents/Data/smoke/KamalZip/BI_PM25_TOT_FUSED_zipcode.csv\")\n",
    "smokemax = pd.read_csv(\"/Users/olivia.sablan/OneDrive - State of New Mexico/Documents/Data/smoke/KamalZip/BI_PM25_TOT_MAX_FUSED_zipcode.csv\")\n",
    "total = pd.read_csv(\"/Users/olivia.sablan/OneDrive - State of New Mexico/Documents/Data/smoke/KamalZip/PM25_TOT_AVG_FUSED_zipcode.csv\")\n",
    "totalmax = pd.read_csv(\"/Users/olivia.sablan/OneDrive - State of New Mexico/Documents/Data/smoke/KamalZip/PM25_TOT_MAX_FUSED_zipcode.csv\")\n",
    "\n",
    "meltsmoke = smoke.melt(id_vars = ['Date'], var_name = 'Zip', value_name= 'smokepm25')\n",
    "meltsmokemax = smokemax.melt(id_vars = ['Date'], var_name = 'Zip', value_name= 'maxsmokepm25')\n",
    "melttotal = total.melt(id_vars = ['Date'], var_name = 'Zip', value_name= 'totalpm25')\n",
    "melttotalmax= totalmax.melt(id_vars = ['Date'], var_name = 'Zip', value_name= 'maxtotalpm25')\n",
    "\n",
    "merge1 = pd.merge(meltsmoke, meltsmokemax, on = ['Date', 'Zip'])\n",
    "merge2 = pd.merge(merge1, melttotal, on = ['Date', 'Zip'])\n",
    "alltogether = pd.merge(merge2, melttotalmax, on = ['Date', 'Zip'])\n",
    "\n",
    "alltogether2.to_csv('/Users/olivia.sablan/OneDrive - State of New Mexico/Documents/Data/smoke/KamalZip/bigKamalZip_os.csv')"
   ]
  }
 ],
 "metadata": {
  "kernelspec": {
   "display_name": "Python 3",
   "language": "python",
   "name": "python3"
  },
  "language_info": {
   "codemirror_mode": {
    "name": "ipython",
    "version": 3
   },
   "file_extension": ".py",
   "mimetype": "text/x-python",
   "name": "python",
   "nbconvert_exporter": "python",
   "pygments_lexer": "ipython3",
   "version": "3.11.8"
  }
 },
 "nbformat": 4,
 "nbformat_minor": 2
}
