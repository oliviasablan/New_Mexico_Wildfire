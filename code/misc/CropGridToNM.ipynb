{
 "cells": [
  {
   "cell_type": "code",
   "execution_count": 1,
   "metadata": {},
   "outputs": [],
   "source": [
    "import numpy as np\n",
    "import pandas as pd\n",
    "import matplotlib.pyplot as plt\n",
    "import cartopy.crs as ccrs\n",
    "import cartopy.feature as cfeature\n",
    "import geopandas as gpd\n",
    "import earthpy as et\n",
    "import xarray as xr\n",
    "import regionmask\n",
    "\n",
    "import warnings\n",
    "warnings.filterwarnings(\"ignore\")"
   ]
  },
  {
   "cell_type": "markdown",
   "metadata": {},
   "source": [
    "#### The goal of this code is to crop the national gridded smoke PM2.5 product from O'Dell et al. (2019) to the state of New Mexico in order to take an average just for the state"
   ]
  },
  {
   "cell_type": "markdown",
   "metadata": {},
   "source": [
    " ##### code adapted from: https://www.earthdatascience.org/courses/use-data-open-source-python/hierarchical-data-formats-hdf/subset-netcdf4-climate-data-spatially-aoi/"
   ]
  },
  {
   "cell_type": "code",
   "execution_count": 3,
   "metadata": {},
   "outputs": [],
   "source": [
    "# Download natural earth data which contains state boundaries to generate AOI\n",
    "url =  (\n",
    "    \"https://naturalearth.s3.amazonaws.com/\"\n",
    "    \"50m_cultural/ne_50m_admin_1_states_provinces_lakes.zip\"\n",
    ")\n",
    "states_gdf = gpd.read_file(url)\n",
    "# Use the bounds to determine the slice values for this data\n",
    "# We select New Mexico, but this code can work for any US state\n",
    "newmexico_aoi = states_gdf[states_gdf.name == \"New Mexico\"]"
   ]
  },
  {
   "cell_type": "code",
   "execution_count": 4,
   "metadata": {},
   "outputs": [
    {
     "name": "stdout",
     "output_type": "stream",
     "text": [
      "2022 annual smoke mean: 0.6 STD:  2.0\n",
      "2022 annual total mean: 5.4 STD:  3.2\n"
     ]
    }
   ],
   "source": [
    "# Open gridded smoke dataset for 2022 (2021 and older have a different set up)\n",
    "df = xr.open_dataset('C:/Users/olivia.sablan/OneDrive - State of New Mexico/Documents/Data/smoke/KateGridded/NM_griddedPM_all-final_2022.nc')\n",
    "\n",
    "#The format is not suitable for this analysis so the following takes the smoke pm2.5 and makes a new dataset\n",
    "lat = np.zeros((71))\n",
    "lon = np.zeros((71))\n",
    "smoke_vals = df['smokepm'].values\n",
    "time = np.arange(1,366)\n",
    "\n",
    "# Need to loop through to not get repeated values of lats/lons\n",
    "for i in range(71):\n",
    "    lat[i] = df['lat'][i][0]\n",
    "    lon[i] = df['lon'][0][i]\n",
    "\n",
    "#put all the variables I listed above into a new xarray\n",
    "new_df_xr = xr.DataArray(smoke_vals, coords= {'time': time, 'lat':lat, 'lon': lon}, dims = ['time', 'lat', 'lon'])\n",
    "\n",
    "# Make a mask of just the state of interest\n",
    "nm_mask = regionmask.mask_3D_geopandas(newmexico_aoi, new_df_xr.lon, new_df_xr.lat)\n",
    "# Apply the mask to the new dataset\n",
    "nm_grid = new_df_xr.where(nm_mask)\n",
    "# Take the mean of the time dimension to get annual smoke\n",
    "nm_mean = nm_grid.mean(dim = 'time')\n",
    "\n",
    "print('2022 annual smoke mean:', np.mean(nm_grid).values.round(1), 'STD: ', np.std(nm_grid).values.round(1))\n",
    "\n",
    "total_vals = df['totalpm'].values\n",
    "new_df_xr = xr.DataArray(total_vals, coords= {'time': time, 'lat':lat, 'lon': lon}, dims = ['time', 'lat', 'lon'])\n",
    "nm_mask = regionmask.mask_3D_geopandas(newmexico_aoi, new_df_xr.lon, new_df_xr.lat)\n",
    "nm_grid = new_df_xr.where(nm_mask)\n",
    "nm_mean = nm_grid.mean(dim = 'time')\n",
    "print('2022 annual total mean:', np.mean(nm_grid).values.round(1), 'STD: ', np.std(nm_grid).values.round(1))\n"
   ]
  },
  {
   "cell_type": "code",
   "execution_count": null,
   "metadata": {},
   "outputs": [],
   "source": []
  },
  {
   "cell_type": "code",
   "execution_count": 5,
   "metadata": {},
   "outputs": [],
   "source": [
    "# Repeat this process for the other years of data\n",
    "listofDF = ['../Data/smoke/KateGridded/krigedPM25_2021_4repo.nc', '../Data/smoke/KateGridded/krigedPM25_2020_4repo.nc', '../Data/smoke/KateGridded/krigedPM25_2019_4repo.nc', '../Data/smoke/KateGridded/krigedPM25_2018_v2.nc',\n",
    "            '../Data/smoke/KateGridded/krigedPM25_2017_v2.nc', '../Data/smoke/KateGridded/krigedPM25_2016_v2.nc']\n",
    "listofYears = ['2021', '2020', '2019', '2018', '2017', '2016']"
   ]
  },
  {
   "cell_type": "code",
   "execution_count": 6,
   "metadata": {},
   "outputs": [
    {
     "name": "stdout",
     "output_type": "stream",
     "text": [
      "2021\n",
      "Annual total mean: 6.3 STD:  4.9\n",
      "Annual smoke mean: 1.4 STD:  4.5\n",
      "2020\n",
      "Annual total mean: 6.2 STD:  4.1\n",
      "Annual smoke mean: 1.2 STD:  3.8\n",
      "2019\n",
      "Annual total mean: 4.5 STD:  2.5\n",
      "Annual smoke mean: 0.3 STD:  2.2\n",
      "2018\n",
      "Annual total mean: 5.7 STD:  5.3\n",
      "Annual smoke mean: 1.3 STD:  5.2\n",
      "2017\n",
      "Annual total mean: 4.9 STD:  3.0\n",
      "Annual smoke mean: 0.6 STD:  2.8\n",
      "2016\n",
      "Annual total mean: 4.7 STD:  2.8\n",
      "Annual smoke mean: 0.3 STD:  2.5\n"
     ]
    }
   ],
   "source": [
    "# Loop through the other gridded years and print the NM average smoke PM2.5\n",
    "for i in range(0,6):\n",
    "    print(listofYears[i])\n",
    "    df = xr.open_dataset(listofDF[i])\n",
    "    lat = np.zeros(189)\n",
    "    for i in range(189):\n",
    "        lat[i] = df['lat'][i][0]\n",
    "    lon = np.zeros(309)\n",
    "    for i in range(309):\n",
    "        lon[i] = df['lon'][0][i]\n",
    "    total_vals = df['PM25'].values\n",
    "    time = np.arange(1,len(df['date'])+1)\n",
    "    new_df_xr = xr.DataArray(total_vals, coords= {'time': time, 'lat':np.unique(lat), 'lon': np.unique(lon)}, dims = ['time', 'lat', 'lon'])\n",
    "    nm_mask = regionmask.mask_3D_geopandas(newmexico_aoi,new_df_xr.lon, new_df_xr.lat)\n",
    "    nm_grid = new_df_xr.where(nm_mask)\n",
    "    print('Annual total mean:', np.mean(nm_grid).values.round(1), 'STD: ', np.std(nm_grid).values.round(1))\n",
    "    df['smokepm25'] = df['PM25'] - df['Background_PM25']\n",
    "    smokevals = df['smokepm25'].values\n",
    "    new_df_xr = xr.DataArray(smokevals, coords= {'time': time, 'lat':np.unique(lat), 'lon': np.unique(lon)}, dims = ['time', 'lat', 'lon'])\n",
    "    nm_mask = regionmask.mask_3D_geopandas(newmexico_aoi,new_df_xr.lon, new_df_xr.lat)\n",
    "    nm_grid = new_df_xr.where(nm_mask)\n",
    "    print('Annual smoke mean:', np.mean(nm_grid).values.round(1), 'STD: ', np.std(nm_grid).values.round(1))\n",
    "\n"
   ]
  },
  {
   "cell_type": "code",
   "execution_count": 7,
   "metadata": {},
   "outputs": [
    {
     "data": {
      "text/plain": [
       "<cartopy.mpl.geocollection.GeoQuadMesh at 0x243c5e5fbd0>"
      ]
     },
     "execution_count": 7,
     "metadata": {},
     "output_type": "execute_result"
    },
    {
     "data": {
      "image/png": "[encoded data removed]",
      "text/plain": [
       "<Figure size 400x400 with 2 Axes>"
      ]
     },
     "metadata": {},
     "output_type": "display_data"
    }
   ],
   "source": [
    "# Plot the cropped gridded smoke to demonstrate the we have successfully cropped the national grid to the state of New Mexico\n",
    "fig = plt.figure(figsize=(4,4))\n",
    "map_bounds = [-109.5, -102.5, 30.7, 37.5]\n",
    "ax = plt.axes(projection = ccrs.PlateCarree())\n",
    "ax.set_extent(map_bounds, ccrs.PlateCarree())\n",
    "ax.add_feature(cfeature.BORDERS, color = 'k')\n",
    "ax.add_feature(cfeature.STATES, zorder = 10)\n",
    "nm_mean.plot(ax = ax)"
   ]
  }
 ],
 "metadata": {
  "kernelspec": {
   "display_name": "Python 3",
   "language": "python",
   "name": "python3"
  },
  "language_info": {
   "codemirror_mode": {
    "name": "ipython",
    "version": 3
   },
   "file_extension": ".py",
   "mimetype": "text/x-python",
   "name": "python",
   "nbconvert_exporter": "python",
   "pygments_lexer": "ipython3",
   "version": "3.11.8"
  }
 },
 "nbformat": 4,
 "nbformat_minor": 2
}
