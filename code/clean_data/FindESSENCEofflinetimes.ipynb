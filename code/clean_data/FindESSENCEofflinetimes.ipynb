{
 "cells": [
  {
   "cell_type": "code",
   "execution_count": 4,
   "metadata": {},
   "outputs": [],
   "source": [
    "import numpy as np\n",
    "import pandas as pd\n",
    "from matplotlib import pyplot as plt\n",
    "import matplotlib as mplt\n",
    "from matplotlib import rcParams\n",
    "from matplotlib import rc\n",
    "import glob\n",
    "rc('mathtext', default='regular') \n",
    "rcParams['font.family'] = 'serif'\n",
    "rcParams['mathtext.fontset'] = 'cm'\n",
    "rcParams['mathtext.rm'] = 'serif'\n",
    "rcParams['font.size'] = 12"
   ]
  },
  {
   "cell_type": "markdown",
   "metadata": {},
   "source": [
    "### The following code was used to determine when the syndromic surveillance (ESSENCE) reporting system was down for each facility\n",
    "#### We cannot use the periods where the system was offline as a referent period because there would be false 0's in our case-crossover dataset\n",
    "#### where the system was down rather than there actually not being a patient reported"
   ]
  },
  {
   "cell_type": "code",
   "execution_count": 5,
   "metadata": {},
   "outputs": [],
   "source": [
    "# we have a file for every NM facility and their daily reports\n",
    "# read in all the facilities and make one large dataset\n",
    "inputfiles = glob.glob('C:/Users/olivia.sablan/OneDrive - State of New Mexico/Documents/Data/health/ESSENCE Facilities/*.csv')\n",
    "df_from_each_file = (pd.read_csv(f) for f in inputfiles)\n",
    "essence = pd.concat(df_from_each_file, sort = False)\n",
    "# Get a daily sum of the total ESSENCE reports per facility\n",
    "essence = essence.groupby(by = ['Date',  'Facility', 'Facility Name']).sum().reset_index()\n",
    "essence[\"Date\"] = pd.to_datetime(essence['Date'], utc = True)"
   ]
  },
  {
   "cell_type": "code",
   "execution_count": 6,
   "metadata": {},
   "outputs": [],
   "source": [
    "# We have one large file for all NM emergency departments facilities and their total visits\n",
    "# Read in this file and convert the datet to a pandas datetime\n",
    "ED = pd.read_csv('C:/Users/olivia.sablan/OneDrive - State of New Mexico/Documents/Data/health/ED/ED_countbyfacility.csv')\n",
    "ED['date_of_visit'] = pd.to_datetime(ED['date_of_visit'])\n",
    "ED = ED.rename(columns = {'date_of_visit': \"Date\"})\n",
    "ED['Date'] = pd.to_datetime(ED['Date'], utc = True)"
   ]
  },
  {
   "cell_type": "code",
   "execution_count": 7,
   "metadata": {},
   "outputs": [],
   "source": [
    "# This is another dataset that has all of the NM facilities and their ID number as well as facility name\n",
    "# We need to read it in to merge these two datasets\n",
    "IDs = pd.read_csv('C:/Users/olivia.sablan/OneDrive - State of New Mexico/Documents/Data/health/ESSENCE Facilities/Graphs/FacilityNameID.csv')\n",
    "# Merge this new dataset with the names and ID numbers with the ED visits\n",
    "merged = pd.merge(ED, IDs[['Facility', 'Facility Name', 'NMStateLicenseNum']], on = 'NMStateLicenseNum')\n",
    "# Then merge with the large dataset with essence\n",
    "mergedall = pd.merge(merged, essence[['Date', 'Facility Name', 'Data']], on = ['Date', 'Facility Name'])\n",
    "mergedall['Facility'] = mergedall['Facility'].astype('float')\n",
    "\n",
    "# Rename some columns so we can keep things straight\n",
    "mergedall = mergedall.rename(columns = {'n':'DailyEDVisits', 'Data':'DailyESSENCE'})\n",
    "# Make a column where we can flag when the ESSENCE system was down\n",
    "# We determined that (for the most part) when there were 2 times as many ED visits in a day than there were ESSENCE reports, the ESSENCE system for that facility was down\n",
    "mergedall['Flag'] = np.where(mergedall['DailyEDVisits'] > mergedall['DailyESSENCE'] * 2, 0, 1)\n",
    "IDnum = mergedall['Facility'].unique()"
   ]
  },
  {
   "cell_type": "code",
   "execution_count": 8,
   "metadata": {},
   "outputs": [
    {
     "name": "stdout",
     "output_type": "stream",
     "text": [
      "Percentage of facilities online the whole time:  66.67\n"
     ]
    }
   ],
   "source": [
    "# Make a list of all the facility names in NM\n",
    "FN = mergedall['Facility Name'].unique()\n",
    "# We need to remove the facilities that we deemed to be completely online through the whole study (2019-2022), so that we are only looking for offline periods in facilities that for sure went offline\n",
    "OnlineOnly = FN[1], FN[2], FN[4], FN[6], FN[8], FN[9], FN[10], FN[11], FN[13], FN[14], FN[15], FN[16],  FN[17], FN[18], FN[19], FN[21], FN[22], FN[23], FN[24], FN[28], FN[30], FN[33], FN[34], FN[35]\n",
    "print('Percentage of facilities online the whole time: ', round(len(OnlineOnly)/len(IDnum) *100, 2))"
   ]
  },
  {
   "cell_type": "code",
   "execution_count": 18,
   "metadata": {},
   "outputs": [],
   "source": [
    "# Make a dataframe that only has the dates where EVERY facility was online (this is all dates for the Facilities we separated out above)\n",
    "ONLINEdates = mergedall[['Date', 'Facility Name', 'NMStateLicenseNum']][mergedall['Flag'] == 1]\n",
    "ONLINEdates['Date'] = ONLINEdates['Date'].dt.date\n",
    "ONLINEdates.to_csv('../Data/health/ESSENCE Facilities/ONLINEdates.csv')"
   ]
  },
  {
   "cell_type": "code",
   "execution_count": 11,
   "metadata": {},
   "outputs": [
    {
     "name": "stdout",
     "output_type": "stream",
     "text": [
      "Percentage of data that is offline for the facilities that go offline:  10.5\n"
     ]
    }
   ],
   "source": [
    "print('Percentage of data that is offline for the facilities that go offline: ',round(len(mergedall[mergedall['Flag'] == 0])/len(mergedall) *100, 1))"
   ]
  },
  {
   "cell_type": "code",
   "execution_count": 12,
   "metadata": {},
   "outputs": [],
   "source": [
    "#for i in range(len(Offline)):\n",
    "#    onefac = mergedall[mergedall['Facility Name'] == Offline[i]]\n",
    "#    fig, ax = plt.subplots(figsize = (25, 5))\n",
    "#    ax.scatter(onefac['Date'], onefac['DailyEDVisits'], s = 8, color = 'xkcd:lavender pink', label = 'ED Visits')\n",
    "#    ax.scatter(onefac['Date'], onefac['DailyESSENCE'], s = 8, color = 'xkcd:denim blue', label = 'ESSENCE')\n",
    "#    ax.set_ylabel('Total Number of Visits', fontsize = 15)\n",
    "#    ax.set_xlabel('Date', fontsize = 20)\n",
    "#    ax.set_title(str(onefac['Facility Name'].iloc[0] + ' ' +  str(i)), fontsize = 15)\n",
    "#    ax.legend()\n",
    "#    plt.show()\n",
    "#    fig.savefig('../Data/health/ESSENCE Facilities/Graphs/ESSENCE_vsED/' + onefac['Facility Name'].iloc[0] + '.png', dpi = 200, bbox_inches = 'tight')"
   ]
  },
  {
   "cell_type": "code",
   "execution_count": 13,
   "metadata": {},
   "outputs": [],
   "source": [
    "#for i in range(len(Offline)):\n",
    "#    onefac = mergedall[mergedall['Facility Name'] == Offline[i]]\n",
    "#    off = onefac[onefac['Flag'] == 0]\n",
    "#    on = onefac[onefac['Flag'] == 1]\n",
    "#    fig, ax = plt.subplots(figsize = (25, 5))\n",
    "#    ax.scatter(off['Date'], off['Flag'], s = 8, color = 'xkcd:red')\n",
    "#    ax.scatter(on['Date'], on['Flag'], s = 8, color = 'xkcd:green')\n",
    "#    #ax.set_ylim([0, 1.6])\n",
    "#    #plt.axhline(y=mean*.05, color='r', linestyle='-')\n",
    "#    ax.set_title(str(onefac['Facility Name'].iloc[0]), fontsize = 15)\n",
    "#    plt.show()\n",
    "#    fig.savefig('../Data/health/ESSENCE Facilities/Graphs/ESSENCEsorting/morethan2'+ onefac['Facility Name'].iloc[0] + '.png', dpi = 200, bbox_inches = 'tight')"
   ]
  }
 ],
 "metadata": {
  "kernelspec": {
   "display_name": "Python 3",
   "language": "python",
   "name": "python3"
  },
  "language_info": {
   "codemirror_mode": {
    "name": "ipython",
    "version": 3
   },
   "file_extension": ".py",
   "mimetype": "text/x-python",
   "name": "python",
   "nbconvert_exporter": "python",
   "pygments_lexer": "ipython3",
   "version": "3.11.8"
  }
 },
 "nbformat": 4,
 "nbformat_minor": 2
}
