{
 "cells": [
  {
   "cell_type": "code",
   "execution_count": 1,
   "metadata": {},
   "outputs": [],
   "source": [
    "import pandas as pd\n",
    "import numpy as np\n",
    "import glob\n",
    "import warnings\n",
    "warnings.filterwarnings(\"ignore\")"
   ]
  },
  {
   "cell_type": "markdown",
   "metadata": {},
   "source": [
    "#### Start with ESSENCE, we did a lot of cleaning and formatting in \"CleanHealthStep1.ipynb\" so we just need to finish cleaning here"
   ]
  },
  {
   "cell_type": "code",
   "execution_count": 2,
   "metadata": {},
   "outputs": [],
   "source": [
    "#read in all ESSENCE files that were cleaned previously in \"CleanHealthStep1.ipynb\"\n",
    "inputfiles = glob.glob('../Data/health/ESSENCE/cleaned*')\n",
    "df_from_each_file = (pd.read_csv(f) for f in inputfiles)\n",
    "# concat into one big file, as they are stil separated by diagnosis\n",
    "essence = pd.concat(df_from_each_file, sort = False) \n",
    "# convert date to pandas datetime\n",
    "essence['Date'] = pd.to_datetime(essence['Date'], utc = True) \n",
    "# for ZIP codes, only take first 5 values in the string (some are longer and this is erroneous)\n",
    "essence['Zip'] = essence['Patient_Zip'].str[:5] \n",
    "#convert all the ZIPs to numbers, and if they won't convert then make them a zero\n",
    "essence['Zip'] = pd.to_numeric(essence['Zip'], errors='coerce').fillna(0).astype(np.int64) \n",
    "# exclude all ZIPs that we made zero in the step above bc we couldn't convert them to numbers\n",
    "essence = essence[essence['Zip'] != 0] \n",
    "# also drop any columns that didn't have a ZIP associated because we can't use this in the analysis\n",
    "essence = essence.dropna(subset = 'Zip')"
   ]
  },
  {
   "cell_type": "code",
   "execution_count": 3,
   "metadata": {},
   "outputs": [
    {
     "name": "stdout",
     "output_type": "stream",
     "text": [
      "Percent of ESSENCE data with Zips that do not match smoke exposure:  1.75 %\n"
     ]
    }
   ],
   "source": [
    "#read in the smoke data so we can get a list of the 2010 US Census ZCTA ZIPs\n",
    "smoke = pd.read_csv('../Data/smoke/KateZip/AllZipSmoke_Total_os.csv') \n",
    "# make a list of all unique ZIPs\n",
    "listy = smoke['Zip'].unique() \n",
    "print('Percent of ESSENCE data with Zips that do not match smoke exposure: ', round(len(essence[~essence['Zip'].isin(listy)])/len(essence)*100, 2), '%')"
   ]
  },
  {
   "cell_type": "code",
   "execution_count": 18,
   "metadata": {},
   "outputs": [],
   "source": [
    "# only take ZIP codes in the ESSENCE data that will match with the health data\n",
    "newessence = essence[essence['Zip'].isin(listy)] \n",
    "# make a new unique Patient ID for each row that will be used in the casecrossover analysis\n",
    "newessence['New_Patient_ID'] = range(1, len(newessence)+1) \n",
    "newessence['New_Patient_ID']  = newessence['New_Patient_ID'] .astype(str)\n",
    "# just add \"OS\" to the Patient ID to make sure it is clear that I made it and it's not a legit Patient ID\n",
    "newessence['New_Patient_ID'] = 'OS_' + newessence['New_Patient_ID']\n",
    "newessence.to_csv('../Data/health/ESSENCE/ALLCLEANED_ESSENCE.csv')"
   ]
  },
  {
   "cell_type": "markdown",
   "metadata": {},
   "source": [
    "#### Next, we need to finish cleaning the ED data"
   ]
  },
  {
   "cell_type": "code",
   "execution_count": 5,
   "metadata": {},
   "outputs": [],
   "source": [
    "# read in the previously cleaned ED data\n",
    "ED_original = pd.read_csv(\"C:/Users/olivia.sablan/OneDrive - State of New Mexico/Documents/Data/health/ED/ED_data_multipleremoved.csv\")\n",
    "# make a copy to be compared to the final cleaned data\n",
    "ED = ED_original.copy(deep = True) \n",
    "ED = ED.rename(columns = {'ZIP': 'Zip', 'date_of_visit':'Date'})\n",
    "# for ZIP codes, only take first 5 values in the string (some are longer and this is erroneous)\n",
    "ED['Zip'] = ED['Zip'].str[:5] \n",
    "# convert all the ZIPs to numbers, and if they won't convert then make them a zero\n",
    "ED['Zip'] = pd.to_numeric(ED['Zip'], errors='coerce').fillna(0).astype(np.int64) \n",
    "# exclude all ZIPs that we made zero in the step above bc we couldn't convert them to numbers\n",
    "ED = ED[ED['Zip'] != 0] \n",
    "# also drop any columns that didn't have a ZIP associated because we can't use this in the analysis\n",
    "ED = ED.dropna(subset = ['Zip'])\n",
    "# convert back to string for next step \n",
    "ED['Zip'] = ED['Zip'].astype('str') \n",
    "# We only want to keep records with ZIPs in NM, which all start with eith 88 or 87 or the other four that border the state\n",
    "ED = ED.loc[(ED['Zip'].str.startswith('88', na=False)) | (ED['Zip'].str.startswith('87', na=False)) | (ED['Zip'] == '79837') | (ED['Zip'] == '81137') | (ED['Zip'] == '86504') | (ED['Zip'] == '86515')]\n",
    "# Again, make sure the ZIP is the right length\n",
    "ED = ED[ED['Zip'].str.len() == 5]\n",
    "ED['Zip'] = ED['Zip'].astype('int') # Need ZIP as an int to compare to the smoke PM2.5 data"
   ]
  },
  {
   "cell_type": "code",
   "execution_count": 6,
   "metadata": {},
   "outputs": [
    {
     "name": "stdout",
     "output_type": "stream",
     "text": [
      "Data removed bc error in zipcode:  1.15\n"
     ]
    }
   ],
   "source": [
    "print('Data removed bc error in zipcode: ', round(100 - (len(ED) / len(ED_original) * 100), 2))"
   ]
  },
  {
   "cell_type": "code",
   "execution_count": 7,
   "metadata": {},
   "outputs": [
    {
     "name": "stdout",
     "output_type": "stream",
     "text": [
      "Percent of ED data with Zips that do not match smoke exposure:  1.98 %\n"
     ]
    }
   ],
   "source": [
    "print('Percent of ED data with Zips that do not match smoke exposure: ', round(len(ED[~ED['Zip'].isin(listy)])/len(ED)*100, 2), '%')"
   ]
  },
  {
   "cell_type": "code",
   "execution_count": 8,
   "metadata": {},
   "outputs": [],
   "source": [
    "# only keep the ED data that has a ZIP code matching the smoke data\n",
    "ED = ED[ED['Zip'].isin(listy)]"
   ]
  },
  {
   "cell_type": "code",
   "execution_count": 9,
   "metadata": {},
   "outputs": [],
   "source": [
    "# Need to create a ED file that can be easily fed into the \"preparehealthforCC.R\" code\n",
    "# We have to make new rows corresponding to diagnoses, with a 1 or a 0\n",
    "# Each row will have a 1 for the primary diagnoses and a 0 for the others (although if the primary diagnosis fits in allresp1 or allcardio1 then it may have two 1's)\n",
    "ED['allresp1'] = np.where(ED['All_respiratory'] == 1, 1, 0)\n",
    "ED['asthma1'] = np.where(ED['Asthma'] == 1, 1, 0)\n",
    "ED['COPD1'] = np.where(ED['COPD'] == 1, 1, 0)\n",
    "ED['pneumonia1'] = np.where(ED['Pneumonia'] == 1, 1, 0)\n",
    "ED['bronchitis1'] = np.where(ED['Bronchitis'] == 1, 1, 0)\n",
    "ED['allcardio1'] = np.where(ED['All_cardiovascular'] == 1, 1, 0)\n",
    "ED['cardiacarrest1'] = np.where(ED['Cardiac_arrest'] == 1, 1, 0)\n",
    "ED['arrythmia1'] = np.where(ED['Arrythmia'] == 1, 1, 0)\n",
    "ED['heartfail1'] = np.where(ED['Heart_failure'] == 1, 1, 0)\n",
    "ED['ischemic1'] = np.where(ED['Ischemic'] == 1, 1, 0)\n",
    "ED['MI1'] = np.where(ED['MI'] == 1, 1, 0)\n",
    "ED['cerebrovascular1'] = np.where(ED['Cerebrovascular'] == 1, 1, 0)\n",
    "\n",
    "# Drop the previous columns of diagnoses\n",
    "ED = ED.drop(columns = ['All_respiratory', 'Asthma', 'COPD', 'Pneumonia', 'Bronchitis', 'All_cardiovascular', 'Cardiac_arrest', 'Arrythmia', 'Heart_failure', 'MI', 'Cerebrovascular'])\n",
    "# Create a column to sum all the diagnoses\n",
    "ED['colSUM'] = ED[\"allresp1\"] + ED[\"asthma1\"] + ED[\"COPD1\"] + ED[\"pneumonia1\"] + ED[\"bronchitis1\"] + ED[\"allcardio1\"] + ED[\"cardiacarrest1\"] + ED[\"arrythmia1\"] + ED[\"heartfail1\"] + ED[\"ischemic1\"] + ED[\"MI1\"] + ED[\"cerebrovascular1\"]\n",
    "# Only keep rows were the sum of all diagnoses is not zero\n",
    "# The original data had secondary diagnoses so we need to the drop that rows that were secondary only \n",
    "ED = ED[ED['colSUM'] != 0]\n",
    "\n",
    "# Create a unique patient ID for each row, and make it clear that this is not a real reported ID by adding \"OS\"\n",
    "ED['New_Patient_ID'] = range(1, len(ED)+1)\n",
    "ED['New_Patient_ID']  = ED['New_Patient_ID'] .astype(str)\n",
    "ED['New_Patient_ID'] = 'OS_' + ED['New_Patient_ID']"
   ]
  },
  {
   "cell_type": "code",
   "execution_count": 10,
   "metadata": {},
   "outputs": [],
   "source": [
    "ED.to_csv('../Data/health/ED/ED_data.csv')"
   ]
  },
  {
   "cell_type": "markdown",
   "metadata": {},
   "source": [
    "### The remaining code is output for a table in the paper, it does not contribute to any data cleaning"
   ]
  },
  {
   "cell_type": "code",
   "execution_count": 11,
   "metadata": {},
   "outputs": [
    {
     "name": "stdout",
     "output_type": "stream",
     "text": [
      "TOTAL CASES (total: 733078 )\n",
      " \n",
      "\n",
      "allresp1 : n =  508532\n",
      "asthma1 : n =  51297\n",
      "COPD1 : n =  35696\n",
      "pneumonia1 : n =  76282\n",
      "bronchitis1 : n =  89688\n",
      "allcardio1 : n =  217270\n",
      "cardiacarrest1 : n =  7959\n",
      "arrythmia1 : n =  41345\n",
      "heartfail1 : n =  17342\n",
      "ischemic1 : n =  49592\n",
      "MI1 : n =  41606\n",
      "cerebrovascular1 : n =  42624\n"
     ]
    }
   ],
   "source": [
    "# start with getting total ED cases per diagnosis\n",
    "outcomes = [\"allresp1\",\"asthma1\",\"COPD1\",\"pneumonia1\",\"bronchitis1\",\"allcardio1\",\n",
    "         \"cardiacarrest1\",\"arrythmia1\",\"heartfail1\",\"ischemic1\",\"MI1\",\n",
    "         \"cerebrovascular1\"]\n",
    "\n",
    "print('TOTAL CASES (total:', len(ED), ')\\n \\n')\n",
    "for i in range(len(outcomes)):\n",
    "    oneOutcome = ED[ED[outcomes[i]] == 1]\n",
    "    print(outcomes[i], ': n = ', len(oneOutcome))"
   ]
  },
  {
   "cell_type": "code",
   "execution_count": 12,
   "metadata": {},
   "outputs": [
    {
     "name": "stdout",
     "output_type": "stream",
     "text": [
      "PERCENTAGES IN AGE CATEGORIES (totals: 158668 342822 231505 )\n",
      " \n",
      "\n",
      "allresp1 -  31.0 % 49.8 % 19.2 %\n",
      "asthma1 -  28.9 % 62.5 % 8.6 %\n",
      "COPD1 -  0.3 % 37.6 % 62.1 %\n",
      "pneumonia1 -  14.9 % 43.4 % 41.7 %\n",
      "bronchitis1 -  40.9 % 45.8 % 13.3 %\n",
      "allcardio1 -  0.4 % 40.2 % 59.3 %\n",
      "cardiacarrest1 -  3.6 % 45.0 % 50.5 %\n",
      "arrythmia1 -  0.7 % 35.8 % 63.4 %\n",
      "heartfail1 -  0.1 % 31.5 % 68.4 %\n",
      "ischemic1 -  0.1 % 41.0 % 59.0 %\n",
      "MI1 -  0.0 % 40.2 % 59.8 %\n",
      "cerebrovascular1 -  0.2 % 32.5 % 67.2 %\n"
     ]
    }
   ],
   "source": [
    "# get percentages of ED data in the specified age categories\n",
    "print('PERCENTAGES IN AGE CATEGORIES (totals:', len(ED[ED['age'] < 15]), len(ED[(ED['age'] >= 15) & (ED['age'] < 65)]), len(ED[ED['age'] >= 65]), ')\\n \\n')\n",
    "\n",
    "for i in range(len(outcomes)):\n",
    "    oneOutcome = ED[ED[outcomes[i]] == 1]\n",
    "    young = len(oneOutcome[oneOutcome['age'] < 15])\n",
    "    mid = len(oneOutcome[(oneOutcome['age'] >= 15) & (oneOutcome['age'] < 65)])\n",
    "    older = len(oneOutcome[oneOutcome['age'] >= 65])\n",
    "    total = len(oneOutcome)\n",
    "    print(outcomes[i], '- ',str(round(young/total*100,1)), '%', str(round(mid/total*100, 1)), '%', str(round(older/total*100, 1)), '%')"
   ]
  },
  {
   "cell_type": "code",
   "execution_count": 13,
   "metadata": {},
   "outputs": [
    {
     "name": "stdout",
     "output_type": "stream",
     "text": [
      "PERCENTAGES IN SEX CATEGORIES (totals: 349839 383168 )\n",
      " \n",
      "\n",
      "allresp1 -  45.7 % 54.3 %\n",
      "asthma1 -  43.2 % 56.8 %\n",
      "COPD1 -  46.8 % 53.2 %\n",
      "pneumonia1 -  50.4 % 49.6 %\n",
      "bronchitis1 -  45.7 % 54.3 %\n",
      "allcardio1 -  52.5 % 47.5 %\n",
      "cardiacarrest1 -  61.6 % 38.4 %\n",
      "arrythmia1 -  50.8 % 49.1 %\n",
      "heartfail1 -  52.4 % 47.6 %\n",
      "ischemic1 -  61.5 % 38.5 %\n",
      "MI1 -  61.8 % 38.2 %\n",
      "cerebrovascular1 -  48.8 % 51.2 %\n"
     ]
    }
   ],
   "source": [
    "# get percentages of ED data for each sex\n",
    "\n",
    "print('PERCENTAGES IN SEX CATEGORIES (totals:', len(ED[ED['sex'] == 1]), len(ED[ED['sex'] == 2]), ')\\n \\n')\n",
    "for i in range(len(outcomes)):\n",
    "    oneOutcome = ED[ED[outcomes[i]] == 1]\n",
    "    male = len(oneOutcome[oneOutcome['sex'] == 1])\n",
    "    female = len(oneOutcome[oneOutcome['sex'] == 2])\n",
    "    total = len(oneOutcome)\n",
    "    print(outcomes[i], '- ',str(round(male/total*100,1)), '%', str(round(female/total*100, 1)), '%')"
   ]
  },
  {
   "cell_type": "code",
   "execution_count": 14,
   "metadata": {},
   "outputs": [
    {
     "name": "stdout",
     "output_type": "stream",
     "text": [
      "TOTAL CASES \n",
      " \n",
      "\n",
      "BroadResp : n =  598409\n",
      "Asthma : n =  22750\n",
      "AQResp : n =  326635\n",
      "Cardio : n =  449997\n"
     ]
    }
   ],
   "source": [
    "# repeat above output for an identical table for ESSENCE data\n",
    "outcomes = ['BroadResp', 'Asthma', 'AQResp', 'Cardio']\n",
    "\n",
    "print('TOTAL CASES \\n \\n')\n",
    "for i in range(len(outcomes)):\n",
    "    oneOutcome = newessence[newessence[outcomes[i]] == 1]\n",
    "    print(outcomes[i], ': n = ', len(oneOutcome))"
   ]
  },
  {
   "cell_type": "code",
   "execution_count": 15,
   "metadata": {},
   "outputs": [
    {
     "name": "stdout",
     "output_type": "stream",
     "text": [
      "PERCENTAGES IN AGE CATEGORIES \n",
      " \n",
      "\n",
      "BroadResp -  28.8 % 52.8 % 18.4 %\n",
      "Asthma -  23.8 % 65.1 % 11.2 %\n",
      "AQResp -  11.3 % 56.8 % 31.8 %\n",
      "Cardio -  0.8 % 47.5 % 51.7 %\n"
     ]
    }
   ],
   "source": [
    "print('PERCENTAGES IN AGE CATEGORIES \\n \\n')\n",
    "for i in range(len(outcomes)):\n",
    "    oneOutcome = newessence[newessence[outcomes[i]] == 1]\n",
    "    young = len(oneOutcome[oneOutcome['Age'] < 15])\n",
    "    mid = len(oneOutcome[(oneOutcome['Age'] >= 15) & (oneOutcome['Age'] < 65)])\n",
    "    older = len(oneOutcome[oneOutcome['Age'] >= 65])\n",
    "    total = len(oneOutcome)\n",
    "    print(outcomes[i], '- ',str(round(young/total*100,1)), '%', str(round(mid/total*100, 1)), '%', str(round(older/total*100, 1)), '%')"
   ]
  },
  {
   "cell_type": "code",
   "execution_count": 16,
   "metadata": {},
   "outputs": [
    {
     "name": "stdout",
     "output_type": "stream",
     "text": [
      "PERCENTAGES IN SEX CATEGORIES \n",
      " \n",
      "\n",
      "BroadResp -  45.8 % 54.1 %\n",
      "Asthma -  41.8 % 58.2 %\n",
      "AQResp -  45.4 % 54.6 %\n",
      "Cardio -  50.4 % 49.6 %\n"
     ]
    }
   ],
   "source": [
    "print('PERCENTAGES IN SEX CATEGORIES \\n \\n')\n",
    "for i in range(len(outcomes)):\n",
    "    oneOutcome = newessence[newessence[outcomes[i]] == 1]\n",
    "    male = len(oneOutcome[oneOutcome['Sex'] == 'M'])\n",
    "    female = len(oneOutcome[oneOutcome['Sex'] == 'F'])\n",
    "    total = len(oneOutcome)\n",
    "    print(outcomes[i], '- ',str(round(male/total*100,1)), '%', str(round(female/total*100, 1)), '%')"
   ]
  }
 ],
 "metadata": {
  "kernelspec": {
   "display_name": "Python 3",
   "language": "python",
   "name": "python3"
  },
  "language_info": {
   "codemirror_mode": {
    "name": "ipython",
    "version": 3
   },
   "file_extension": ".py",
   "mimetype": "text/x-python",
   "name": "python",
   "nbconvert_exporter": "python",
   "pygments_lexer": "ipython3",
   "version": "3.11.8"
  }
 },
 "nbformat": 4,
 "nbformat_minor": 2
}
