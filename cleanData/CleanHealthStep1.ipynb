{
 "cells": [
  {
   "cell_type": "code",
   "execution_count": 1,
   "metadata": {},
   "outputs": [],
   "source": [
    "import pandas as pd\n",
    "import matplotlib.pyplot as plt\n",
    "import numpy as np\n",
    "import glob"
   ]
  },
  {
   "cell_type": "code",
   "execution_count": 2,
   "metadata": {},
   "outputs": [
    {
     "name": "stderr",
     "output_type": "stream",
     "text": [
      "C:\\Users\\olivia.sablan\\AppData\\Local\\Temp\\ipykernel_14912\\3455889119.py:2: DtypeWarning: Columns (33,37,132,134,146,147,148,149,154,164) have mixed types. Specify dtype option on import or set low_memory=False.\n",
      "  df_from_each_file = (pd.read_csv(f) for f in inputfiles)\n",
      "C:\\Users\\olivia.sablan\\AppData\\Local\\Temp\\ipykernel_14912\\3455889119.py:2: DtypeWarning: Columns (111,132,134,146,147,154,166,185) have mixed types. Specify dtype option on import or set low_memory=False.\n",
      "  df_from_each_file = (pd.read_csv(f) for f in inputfiles)\n",
      "C:\\Users\\olivia.sablan\\AppData\\Local\\Temp\\ipykernel_14912\\3455889119.py:2: DtypeWarning: Columns (47,154,169,170,171,172) have mixed types. Specify dtype option on import or set low_memory=False.\n",
      "  df_from_each_file = (pd.read_csv(f) for f in inputfiles)\n",
      "C:\\Users\\olivia.sablan\\AppData\\Local\\Temp\\ipykernel_14912\\3455889119.py:2: DtypeWarning: Columns (154) have mixed types. Specify dtype option on import or set low_memory=False.\n",
      "  df_from_each_file = (pd.read_csv(f) for f in inputfiles)\n"
     ]
    }
   ],
   "source": [
    "inputfiles = glob.glob('C:/Users/olivia.sablan/OneDrive - State of New Mexico/Documents/Data/health/ESSENCE/PATIENT_broad*') # Read in all years of ESSENCE data files for broad respiratory\n",
    "df_from_each_file = (pd.read_csv(f) for f in inputfiles)\n",
    "df = pd.concat(df_from_each_file, sort = False) # Concatenate into one large file \n",
    "df['Date'] = pd.to_datetime(df['Date'], utc = True) # Convert date to pandas datetime value\n",
    "df['BroadResp'] = 1 # Make a new column in this dataframe where Broad Respiratory diagnoses is 1 and all others are 0 \n",
    "df['AQResp'] = 0\n",
    "df['Asthma'] = 0\n",
    "df['Cardio'] = 0"
   ]
  },
  {
   "cell_type": "code",
   "execution_count": 3,
   "metadata": {},
   "outputs": [],
   "source": [
    "newbroad = df.drop_duplicates(subset = ['Facility Name',  'Visit_ID', 'Medical_Record_Number']) #Drop duplicates of 3 rows\n",
    "newbroad = newbroad [['PIN','Date', 'Time', 'Facility Name',  'Patient_Zip', 'Zipcode', 'Region', 'C_Patient_County', 'Visit_ID', 'Medical_Record_Number', 'Sex', 'EssenceID', 'Age', 'C_Unique_Patient_ID', 'c_ethnicity', 'c_race',\n",
    "                      'HospitalZip', 'Facility', 'Insurance_Coverage', 'Insurance_Company_ID', 'Facility Region', 'FacilityType', 'Hospital_HRSA_County_Designation', 'Year', 'AlternatePatientID', 'Facility_Type_Description', 'Patient_City',\n",
    "                      'BroadResp', 'AQResp', 'Asthma', 'Cardio']] # Subset only important variables"
   ]
  },
  {
   "cell_type": "code",
   "execution_count": 4,
   "metadata": {},
   "outputs": [],
   "source": [
    "finalbroad =newbroad.drop_duplicates(subset = ['Visit_ID'], keep = 'first') #drop multiple visits\n",
    "finalbroad.to_csv('../Data/health/ESSENCE/cleanedBroadResp.csv')"
   ]
  },
  {
   "cell_type": "code",
   "execution_count": 5,
   "metadata": {},
   "outputs": [
    {
     "name": "stderr",
     "output_type": "stream",
     "text": [
      "C:\\Users\\olivia.sablan\\AppData\\Local\\Temp\\ipykernel_14912\\1281232879.py:2: DtypeWarning: Columns (33,37,132,134,146,147,148,149,154,164) have mixed types. Specify dtype option on import or set low_memory=False.\n",
      "  df_from_each_file = (pd.read_csv(f) for f in inputfiles)\n",
      "C:\\Users\\olivia.sablan\\AppData\\Local\\Temp\\ipykernel_14912\\1281232879.py:2: DtypeWarning: Columns (111,132,134,146,147,154,166,172,185) have mixed types. Specify dtype option on import or set low_memory=False.\n",
      "  df_from_each_file = (pd.read_csv(f) for f in inputfiles)\n",
      "C:\\Users\\olivia.sablan\\AppData\\Local\\Temp\\ipykernel_14912\\1281232879.py:2: DtypeWarning: Columns (154,169,170,171) have mixed types. Specify dtype option on import or set low_memory=False.\n",
      "  df_from_each_file = (pd.read_csv(f) for f in inputfiles)\n",
      "C:\\Users\\olivia.sablan\\AppData\\Local\\Temp\\ipykernel_14912\\1281232879.py:2: DtypeWarning: Columns (154,172) have mixed types. Specify dtype option on import or set low_memory=False.\n",
      "  df_from_each_file = (pd.read_csv(f) for f in inputfiles)\n"
     ]
    }
   ],
   "source": [
    "inputfiles = glob.glob('C:/Users/olivia.sablan/OneDrive - State of New Mexico/Documents/Data/health/ESSENCE/PATIENT_AQ*')\n",
    "df_from_each_file = (pd.read_csv(f) for f in inputfiles)\n",
    "df2 = pd.concat(df_from_each_file, sort = False)\n",
    "df2['Date'] = pd.to_datetime(df2['Date'], utc = True)\n",
    "df2['BroadResp'] = 0\n",
    "df2['AQResp'] = 1\n",
    "df2['Asthma'] = 0\n",
    "df2['Cardio'] = 0"
   ]
  },
  {
   "cell_type": "code",
   "execution_count": 6,
   "metadata": {},
   "outputs": [],
   "source": [
    "newAQ = df2.drop_duplicates(subset = ['Facility Name',  'Visit_ID', 'Medical_Record_Number']) #Drop duplicates of 3 rows\n",
    "newAQ = newAQ [['PIN','Date', 'Time', 'Facility Name',  'Patient_Zip', 'Zipcode', 'Region', 'C_Patient_County', 'Visit_ID', 'Medical_Record_Number', 'Sex', 'EssenceID', 'Age', 'C_Unique_Patient_ID', 'c_ethnicity', 'c_race',\n",
    "                      'HospitalZip', 'Facility', 'Insurance_Coverage', 'Insurance_Company_ID', 'Facility Region', 'FacilityType', 'Hospital_HRSA_County_Designation', 'Year', 'AlternatePatientID', 'Facility_Type_Description', 'Patient_City',\n",
    "                      'BroadResp', 'AQResp', 'Asthma', 'Cardio']]"
   ]
  },
  {
   "cell_type": "code",
   "execution_count": 7,
   "metadata": {},
   "outputs": [],
   "source": [
    "finalAQ =newAQ.drop_duplicates(subset = ['Visit_ID'], keep = 'first')\n",
    "finalAQ.to_csv('../Data/health/ESSENCE/cleanedAQ.csv')"
   ]
  },
  {
   "cell_type": "code",
   "execution_count": 8,
   "metadata": {},
   "outputs": [
    {
     "name": "stderr",
     "output_type": "stream",
     "text": [
      "C:\\Users\\olivia.sablan\\AppData\\Local\\Temp\\ipykernel_14912\\1157344419.py:2: DtypeWarning: Columns (37,148,149,164) have mixed types. Specify dtype option on import or set low_memory=False.\n",
      "  df_from_each_file = (pd.read_csv(f) for f in inputfiles)\n",
      "C:\\Users\\olivia.sablan\\AppData\\Local\\Temp\\ipykernel_14912\\1157344419.py:2: DtypeWarning: Columns (111,132,134,146,147,166,185) have mixed types. Specify dtype option on import or set low_memory=False.\n",
      "  df_from_each_file = (pd.read_csv(f) for f in inputfiles)\n",
      "C:\\Users\\olivia.sablan\\AppData\\Local\\Temp\\ipykernel_14912\\1157344419.py:2: DtypeWarning: Columns (6,135,141,154,169,170,171,172) have mixed types. Specify dtype option on import or set low_memory=False.\n",
      "  df_from_each_file = (pd.read_csv(f) for f in inputfiles)\n"
     ]
    }
   ],
   "source": [
    "inputfiles = glob.glob('C:/Users/olivia.sablan/OneDrive - State of New Mexico/Documents/Data/health/ESSENCE/PATIENT_asthma*')\n",
    "df_from_each_file = (pd.read_csv(f) for f in inputfiles)\n",
    "df3 = pd.concat(df_from_each_file, sort = False)\n",
    "df3['Date'] = pd.to_datetime(df3['Date'], utc = True)\n",
    "df3['BroadResp'] = 0\n",
    "df3['AQResp'] = 0\n",
    "df3['Asthma'] = 1\n",
    "df3['Cardio'] = 0"
   ]
  },
  {
   "cell_type": "code",
   "execution_count": 9,
   "metadata": {},
   "outputs": [],
   "source": [
    "newasthma = df3.drop_duplicates(subset = ['Facility Name',  'Visit_ID', 'Medical_Record_Number']) #Drop duplicates of 3 rows\n",
    "newasthma = newasthma [['PIN','Date', 'Time', 'Facility Name',  'Patient_Zip', 'Zipcode', 'Region', 'C_Patient_County', 'Visit_ID', 'Medical_Record_Number', 'Sex', 'EssenceID', 'Age', 'C_Unique_Patient_ID', 'c_ethnicity', 'c_race',\n",
    "                      'HospitalZip', 'Facility', 'Insurance_Coverage', 'Insurance_Company_ID', 'Facility Region', 'FacilityType', 'Hospital_HRSA_County_Designation', 'Year', 'AlternatePatientID', 'Facility_Type_Description', 'Patient_City',\n",
    "                      'BroadResp', 'AQResp', 'Asthma', 'Cardio']]"
   ]
  },
  {
   "cell_type": "code",
   "execution_count": 10,
   "metadata": {},
   "outputs": [],
   "source": [
    "finalasthma =newasthma.drop_duplicates(subset = ['Visit_ID'], keep = 'first')\n",
    "finalasthma.to_csv('../Data/health/ESSENCE/cleanedAsthma.csv')"
   ]
  },
  {
   "cell_type": "code",
   "execution_count": 11,
   "metadata": {},
   "outputs": [
    {
     "name": "stderr",
     "output_type": "stream",
     "text": [
      "C:\\Users\\olivia.sablan\\AppData\\Local\\Temp\\ipykernel_14912\\614116369.py:2: DtypeWarning: Columns (33,37,132,134,146,147,148,149) have mixed types. Specify dtype option on import or set low_memory=False.\n",
      "  df_from_each_file = (pd.read_csv(f) for f in inputfiles)\n",
      "C:\\Users\\olivia.sablan\\AppData\\Local\\Temp\\ipykernel_14912\\614116369.py:2: DtypeWarning: Columns (37,132,134,146,147,154,164) have mixed types. Specify dtype option on import or set low_memory=False.\n",
      "  df_from_each_file = (pd.read_csv(f) for f in inputfiles)\n",
      "C:\\Users\\olivia.sablan\\AppData\\Local\\Temp\\ipykernel_14912\\614116369.py:2: DtypeWarning: Columns (111,132,134,146,147,172,185) have mixed types. Specify dtype option on import or set low_memory=False.\n",
      "  df_from_each_file = (pd.read_csv(f) for f in inputfiles)\n",
      "C:\\Users\\olivia.sablan\\AppData\\Local\\Temp\\ipykernel_14912\\614116369.py:2: DtypeWarning: Columns (166) have mixed types. Specify dtype option on import or set low_memory=False.\n",
      "  df_from_each_file = (pd.read_csv(f) for f in inputfiles)\n",
      "C:\\Users\\olivia.sablan\\AppData\\Local\\Temp\\ipykernel_14912\\614116369.py:2: DtypeWarning: Columns (169,170,171,172) have mixed types. Specify dtype option on import or set low_memory=False.\n",
      "  df_from_each_file = (pd.read_csv(f) for f in inputfiles)\n",
      "C:\\Users\\olivia.sablan\\AppData\\Local\\Temp\\ipykernel_14912\\614116369.py:2: DtypeWarning: Columns (154,172) have mixed types. Specify dtype option on import or set low_memory=False.\n",
      "  df_from_each_file = (pd.read_csv(f) for f in inputfiles)\n",
      "C:\\Users\\olivia.sablan\\AppData\\Local\\Temp\\ipykernel_14912\\614116369.py:2: DtypeWarning: Columns (154,172) have mixed types. Specify dtype option on import or set low_memory=False.\n",
      "  df_from_each_file = (pd.read_csv(f) for f in inputfiles)\n"
     ]
    }
   ],
   "source": [
    "inputfiles = glob.glob('C:/Users/olivia.sablan/OneDrive - State of New Mexico/Documents/Data/health/ESSENCE/PATIENT_CVD*.csv')\n",
    "df_from_each_file = (pd.read_csv(f) for f in inputfiles)\n",
    "df_from_each_file\n",
    "df4 = pd.concat(df_from_each_file, sort = False)\n",
    "df4['Date'] = pd.to_datetime(df4['Date'], utc = True)\n",
    "df4['BroadResp'] = 0\n",
    "df4['AQResp'] = 0\n",
    "df4['Asthma'] = 0\n",
    "df4['Cardio'] = 1"
   ]
  },
  {
   "cell_type": "code",
   "execution_count": 12,
   "metadata": {},
   "outputs": [],
   "source": [
    "newcardio = df4.drop_duplicates(subset = ['Facility Name',  'Visit_ID', 'Medical_Record_Number']) #Drop duplicates of 3 rows\n",
    "newcardio = newcardio [['PIN','Date', 'Time', 'Facility Name',  'Patient_Zip', 'Zipcode', 'Region', 'C_Patient_County', 'Visit_ID', 'Medical_Record_Number', 'Sex', 'EssenceID', 'Age', 'C_Unique_Patient_ID', 'c_ethnicity', 'c_race',\n",
    "                      'HospitalZip', 'Facility', 'Insurance_Coverage', 'Insurance_Company_ID', 'Facility Region', 'FacilityType', 'Hospital_HRSA_County_Designation', 'Year', 'AlternatePatientID', 'Facility_Type_Description', 'Patient_City',\n",
    "                      'BroadResp', 'AQResp', 'Asthma', 'Cardio']]"
   ]
  },
  {
   "cell_type": "code",
   "execution_count": 13,
   "metadata": {},
   "outputs": [],
   "source": [
    "finalcardio =newcardio.drop_duplicates(subset = ['Visit_ID'], keep = 'first')\n",
    "finalcardio.to_csv('../Data/health/ESSENCE/cleanedCardio.csv')"
   ]
  },
  {
   "cell_type": "code",
   "execution_count": 14,
   "metadata": {},
   "outputs": [
    {
     "name": "stdout",
     "output_type": "stream",
     "text": [
      "Total data removed bc duplicates:  0.45\n"
     ]
    }
   ],
   "source": [
    "print('Total data removed bc duplicates: ', round(((len(df3) - len(newasthma)) + (len(df2) - len(newAQ)) + (len(df) - len(newbroad)) +(len(df4)-len(newcardio)))/ (len(df4) + len(df3) + len(df2) + len(df)) *100, 2))"
   ]
  },
  {
   "cell_type": "code",
   "execution_count": 15,
   "metadata": {},
   "outputs": [
    {
     "name": "stdout",
     "output_type": "stream",
     "text": [
      "Total data removed bc multiple visits:  0.95\n"
     ]
    }
   ],
   "source": [
    "print('Total data removed bc multiple visits: ', round(((len(df3) - len(finalasthma)) + (len(df2) - len(finalAQ)) + (len(df) - len(finalbroad)) +(len(df4)-len(finalcardio)))/ (len(df4) + len(df3) + len(df2) + len(df)) *100, 2))"
   ]
  },
  {
   "cell_type": "markdown",
   "metadata": {},
   "source": [
    "### Need to remove ED visits that are multiple visits in one category"
   ]
  },
  {
   "cell_type": "code",
   "execution_count": 16,
   "metadata": {},
   "outputs": [
    {
     "name": "stderr",
     "output_type": "stream",
     "text": [
      "C:\\Users\\olivia.sablan\\AppData\\Local\\Temp\\ipykernel_14912\\2073054132.py:1: DtypeWarning: Columns (7) have mixed types. Specify dtype option on import or set low_memory=False.\n",
      "  ED_original = pd.read_csv(\"C:/Users/olivia.sablan/OneDrive - State of New Mexico/Documents/Data/health/ED/haquast_data.csv\")\n"
     ]
    }
   ],
   "source": [
    "ED_original = pd.read_csv(\"C:/Users/olivia.sablan/OneDrive - State of New Mexico/Documents/Data/health/ED/haquast_data.csv\")\n",
    "ED = ED_original.copy(deep = True)"
   ]
  },
  {
   "cell_type": "code",
   "execution_count": 17,
   "metadata": {},
   "outputs": [],
   "source": [
    "diagnoses = ['All_respiratory', 'Asthma', 'COPD', 'Pneumonia', 'Bronchitis', 'All_cardiovascular', 'Cardiac_arrest', 'Arrythmia', 'Heart_failure', 'MI', 'Cerebrovascular']\n",
    "removemultipleED = pd.DataFrame()\n",
    "for i in range(len(diagnoses)):\n",
    "    oneoutcome = ED[ED[diagnoses[i]] == 1]\n",
    "    removed = oneoutcome.drop_duplicates(subset = ['Patient_ID'], keep = 'first')\n",
    "    if (i == 0):\n",
    "        removemultipleED = removed\n",
    "    if (i > 0):\n",
    "        removemultipleED = pd.concat([removed, removemultipleED], sort = False)"
   ]
  },
  {
   "cell_type": "code",
   "execution_count": 18,
   "metadata": {},
   "outputs": [
    {
     "name": "stdout",
     "output_type": "stream",
     "text": [
      "Total ED data removed bc multiple visits:  0.86\n"
     ]
    }
   ],
   "source": [
    "print('Total ED data removed bc multiple visits: ', round((len(ED) - len(removemultipleED))/ len(ED), 2))"
   ]
  },
  {
   "cell_type": "code",
   "execution_count": 19,
   "metadata": {},
   "outputs": [],
   "source": [
    "removemultipleED.to_csv('../Data/health/ED/ED_data_multipleremoved.csv')"
   ]
  }
 ],
 "metadata": {
  "kernelspec": {
   "display_name": "Python 3",
   "language": "python",
   "name": "python3"
  },
  "language_info": {
   "codemirror_mode": {
    "name": "ipython",
    "version": 3
   },
   "file_extension": ".py",
   "mimetype": "text/x-python",
   "name": "python",
   "nbconvert_exporter": "python",
   "pygments_lexer": "ipython3",
   "version": "3.11.8"
  }
 },
 "nbformat": 4,
 "nbformat_minor": 2
}
